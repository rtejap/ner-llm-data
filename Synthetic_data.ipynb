{
 "cells": [
  {
   "cell_type": "code",
   "execution_count": 112,
   "id": "c9549c91-838f-43af-939e-db621a8080ed",
   "metadata": {},
   "outputs": [],
   "source": [
    "from faker import Faker"
   ]
  },
  {
   "cell_type": "code",
   "execution_count": 113,
   "id": "dfc48086-e9eb-4c6d-97ef-3912642cb2c8",
   "metadata": {},
   "outputs": [],
   "source": [
    "from datetime import datetime, timedelta\n",
    "\n",
    "start_date = datetime(2000, 1, 1)\n",
    "end_date = datetime(2023, 12, 31)"
   ]
  },
  {
   "cell_type": "code",
   "execution_count": 114,
   "id": "f3e3dc03-04a4-4d5c-99a5-e0d061b54aca",
   "metadata": {},
   "outputs": [],
   "source": [
    "fake=Faker()"
   ]
  },
  {
   "cell_type": "code",
   "execution_count": 115,
   "id": "e1e75b2a-6063-4069-9f0d-bb7f0a673c78",
   "metadata": {},
   "outputs": [],
   "source": [
    "fake_data = []"
   ]
  },
  {
   "cell_type": "code",
   "execution_count": 116,
   "id": "3c4f2264-cabd-4217-a728-87444b4ef311",
   "metadata": {},
   "outputs": [],
   "source": [
    "for _ in range(5):\n",
    "    name = fake.name()\n",
    "    address = fake.address()\n",
    "    state = fake.state()\n",
    "    zipcode = fake.zipcode()\n",
    "    email   = fake.email()\n",
    "    # date = fake.date_this_year()\n",
    "    date=fake.date_time_this_year().strftime('%Y-%m-%d')\n",
    "    birthdate = fake.date_of_birth().strftime('%Y-%m-%d')\n",
    "    \n",
    "    fake_data.append({\"Name\": name, \"Address\": address, \"State\" : state, \"Zipcode\" : zipcode,  \"Email\": email, \"Date\": date, \"Birthdate\": birthdate})\n"
   ]
  },
  {
   "cell_type": "code",
   "execution_count": 117,
   "id": "f5c1fedb-1d0d-433d-a90f-e1ef942145db",
   "metadata": {},
   "outputs": [
    {
     "name": "stdout",
     "output_type": "stream",
     "text": [
      "[{'Name': 'Heather Coleman', 'Address': '473 Roberta Springs\\nMarkport, HI 14321', 'State': 'Montana', 'Zipcode': '44162', 'Email': 'tara27@example.org', 'Date': '2024-04-14', 'Birthdate': '1930-04-07'}, {'Name': 'Kayla Lewis', 'Address': '51557 Wheeler Ramp\\nVirginiaburgh, NV 58898', 'State': 'Alabama', 'Zipcode': '27737', 'Email': 'davidsonhoward@example.org', 'Date': '2024-03-10', 'Birthdate': '1948-10-31'}, {'Name': 'James Foster', 'Address': '641 Stephanie Junction Suite 571\\nEast Stevefort, KY 32926', 'State': 'Wisconsin', 'Zipcode': '66229', 'Email': 'lindseybailey@example.com', 'Date': '2024-04-05', 'Birthdate': '1946-03-07'}, {'Name': 'Elizabeth Bush', 'Address': '12424 Hayes Via\\nStephanieberg, VA 83355', 'State': 'Wyoming', 'Zipcode': '15525', 'Email': 'danielsloan@example.org', 'Date': '2024-03-19', 'Birthdate': '1914-07-12'}, {'Name': 'Ryan Tran', 'Address': '118 Allison Valleys Apt. 156\\nPort Reginald, DE 66868', 'State': 'Michigan', 'Zipcode': '13710', 'Email': 'vmann@example.net', 'Date': '2024-04-12', 'Birthdate': '2001-04-19'}]\n"
     ]
    }
   ],
   "source": [
    "print(fake_data)"
   ]
  },
  {
   "cell_type": "code",
   "execution_count": 118,
   "id": "5cc19e9c-288a-46f8-b5e0-1466a93feaa1",
   "metadata": {},
   "outputs": [],
   "source": [
    "Items = {\"Policy Number\", \"Policyholder and Mailing Address\", \"Aggregate Limit of Liability\", \"Underlying Insurance\", \"Policy Period\", \"Notice to Underwriter\", \"Policy Premium\"}"
   ]
  },
  {
   "cell_type": "code",
   "execution_count": 119,
   "id": "8b3b629b-7692-45d9-8882-c10a92891cc2",
   "metadata": {},
   "outputs": [],
   "source": [
    "import random\n",
    "import csv"
   ]
  },
  {
   "cell_type": "code",
   "execution_count": 120,
   "id": "5109c3fe-6a4d-4a10-b89e-5934efac95d7",
   "metadata": {},
   "outputs": [],
   "source": [
    "# Generate random number\n",
    "random_number = random.randint(1, 5)"
   ]
  },
  {
   "cell_type": "code",
   "execution_count": 121,
   "id": "de95a23e-db19-4975-8dac-f7f0305a798c",
   "metadata": {},
   "outputs": [],
   "source": [
    "# Output 1: Display policy details for each item\n",
    "output1 = []\n",
    "for index, policy in enumerate(fake_data, start=1):\n",
    "    policy_details = []\n",
    "    for item_index, (key, value) in enumerate(policy.items(), start=1):\n",
    "        policy_details.append(f\"Item {item_index}: {key} : {value}\")\n",
    "    output1.append(f\"Policy{index}:\\n\" + '\\n'.join(policy_details))\n",
    "\n"
   ]
  },
  {
   "cell_type": "code",
   "execution_count": 122,
   "id": "26a31023-0702-4004-b216-167b80750253",
   "metadata": {},
   "outputs": [],
   "source": [
    "# Output 2: Random number\n",
    "output2 = random_number"
   ]
  },
  {
   "cell_type": "code",
   "execution_count": 123,
   "id": "1186cf37-9e82-4f87-a8e1-b5b092323674",
   "metadata": {},
   "outputs": [],
   "source": [
    "# Write output1 to CSV file\n",
    "with open('output1.csv', 'w', newline='') as csvfile:\n",
    "    csvwriter = csv.writer(csvfile)\n",
    "    csvwriter.writerow(['Policy Details'])\n",
    "    for policy in output1:\n",
    "        csvwriter.writerow([policy])"
   ]
  },
  {
   "cell_type": "code",
   "execution_count": 124,
   "id": "f98eb3c3-51bc-4294-8273-2f623d0d2eec",
   "metadata": {},
   "outputs": [],
   "source": [
    "# Write output2 to CSV file\n",
    "with open('output2.csv', 'w', newline='') as csvfile:\n",
    "    csvwriter = csv.writer(csvfile)\n",
    "    csvwriter.writerow(['Random Number'])\n",
    "    csvwriter.writerow([output2])"
   ]
  },
  {
   "cell_type": "code",
   "execution_count": 125,
   "id": "a47ebc99-cec8-4fa2-81f4-d7883010e862",
   "metadata": {},
   "outputs": [],
   "source": [
    "# Write data to CSV file based on random number\n",
    "if random_number == 1:\n",
    "    with open('data.csv', 'w', newline='') as csvfile:\n",
    "        writer = csv.DictWriter(csvfile, fieldnames=data[0].keys())\n",
    "        writer.writeheader()\n",
    "        for policy in data[:2]:\n",
    "            writer.writerow(policy)\n",
    "elif random_number == 2:\n",
    "    with open('data.csv', 'w', newline='') as csvfile:\n",
    "        writer = csv.DictWriter(csvfile, fieldnames=data[0].keys())\n",
    "        writer.writeheader()\n",
    "        for policy in data[:2]:\n",
    "            writer.writerow(policy)"
   ]
  },
  {
   "cell_type": "code",
   "execution_count": null,
   "id": "35efa2f1-0ffb-4f59-a92b-6fbb18b3f6fe",
   "metadata": {},
   "outputs": [],
   "source": []
  }
 ],
 "metadata": {
  "kernelspec": {
   "display_name": "Python 3 (ipykernel)",
   "language": "python",
   "name": "python3"
  },
  "language_info": {
   "codemirror_mode": {
    "name": "ipython",
    "version": 3
   },
   "file_extension": ".py",
   "mimetype": "text/x-python",
   "name": "python",
   "nbconvert_exporter": "python",
   "pygments_lexer": "ipython3",
   "version": "3.11.7"
  }
 },
 "nbformat": 4,
 "nbformat_minor": 5
}
